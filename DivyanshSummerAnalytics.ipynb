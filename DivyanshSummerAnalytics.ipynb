{
 "cells": [
  {
   "cell_type": "code",
   "execution_count": 1,
   "id": "f3e29b19",
   "metadata": {},
   "outputs": [],
   "source": [
    "import pandas as pd\n",
    "from sklearn.model_selection import train_test_split\n",
    "from sklearn.ensemble import RandomForestClassifier\n",
    "from sklearn.metrics import roc_auc_score\n",
    "from sklearn.preprocessing import StandardScaler, OneHotEncoder\n",
    "from sklearn.compose import ColumnTransformer\n",
    "from sklearn.pipeline import Pipeline\n",
    "from sklearn.impute import SimpleImputer"
   ]
  },
  {
   "cell_type": "code",
   "execution_count": 3,
   "id": "d1c01098",
   "metadata": {},
   "outputs": [
    {
     "name": "stdout",
     "output_type": "stream",
     "text": [
      "ROC AUC for xyz_vaccine: 0.8244443240514759\n",
      "ROC AUC for seasonal_vaccine: 0.8550034190902512\n"
     ]
    }
   ],
   "source": [
    "# Step 1: Load training data\n",
    "train_features = pd.read_csv('/Users/divyanshsinghsolanki/Downloads/dataset and all 2/training_set_features.csv')\n",
    "train_labels = pd.read_csv('/Users/divyanshsinghsolanki/Downloads/dataset and all 2/training_set_labels.csv')\n",
    "\n",
    "# Step 2: Preprocessing pipeline\n",
    "# Define preprocessing steps for numerical and categorical columns\n",
    "numerical_cols = train_features.select_dtypes(include=['number']).columns.tolist()\n",
    "categorical_cols = train_features.select_dtypes(include=['object']).columns.tolist()\n",
    "\n",
    "# Create preprocessing pipelines for numerical and categorical data\n",
    "numerical_transformer = Pipeline(steps=[\n",
    "    ('imputer', SimpleImputer(strategy='median')),\n",
    "    ('scaler', StandardScaler())\n",
    "])\n",
    "\n",
    "categorical_transformer = Pipeline(steps=[\n",
    "    ('imputer', SimpleImputer(strategy='constant', fill_value='missing')),\n",
    "    ('onehot', OneHotEncoder(handle_unknown='ignore'))\n",
    "])\n",
    "\n",
    "# Combine preprocessing steps\n",
    "preprocessor = ColumnTransformer(\n",
    "    transformers=[\n",
    "        ('num', numerical_transformer, numerical_cols),\n",
    "        ('cat', categorical_transformer, categorical_cols)\n",
    "    ])\n",
    "\n",
    "# Step 3: Define models and train them\n",
    "models = {}\n",
    "for target_col in ['xyz_vaccine', 'seasonal_vaccine']:\n",
    "    # Split data into train and validation sets\n",
    "    X_train, X_valid, y_train, y_valid = train_test_split(train_features, train_labels[target_col], random_state=0)\n",
    "\n",
    "    # Create pipeline with preprocessing and model\n",
    "    model_pipeline = Pipeline(steps=[\n",
    "        ('preprocessor', preprocessor),\n",
    "        ('classifier', RandomForestClassifier(n_estimators=100, random_state=0))  # Example model: Random Forest\n",
    "    ])\n",
    "\n",
    "    # Train the model\n",
    "    model_pipeline.fit(X_train, y_train)\n",
    "\n",
    "    # Evaluate on validation set\n",
    "    y_pred_valid = model_pipeline.predict_proba(X_valid)[:, 1]  # Predict probabilities for positive class\n",
    "    roc_auc = roc_auc_score(y_valid, y_pred_valid)\n",
    "    print(f'ROC AUC for {target_col}: {roc_auc}')\n",
    "\n",
    "    # Save the model\n",
    "    models[target_col] = model_pipeline\n",
    "\n",
    "# Step 4: Generate predictions for test set\n",
    "test_data = pd.read_csv('/Users/divyanshsinghsolanki/Downloads/dataset and all 2/test_set_features.csv')\n",
    "\n",
    "# Generate predictions for each model\n",
    "predictions = {}\n",
    "for target_col, model in models.items():\n",
    "    probabilities = model.predict_proba(test_data)[:, 1]  # Predict probabilities for positive class\n",
    "    predictions[target_col] = probabilities\n",
    "\n",
    "# Step 5: Create submission file\n",
    "submission_df = pd.DataFrame({\n",
    "    'respondent_id': test_data['respondent_id'],\n",
    "    'xyz_vaccine': predictions['xyz_vaccine'],\n",
    "    'seasonal_vaccine': predictions['seasonal_vaccine']\n",
    "})\n",
    "\n",
    "submission_df.to_csv('test_set_labels.csv', index=False)"
   ]
  },
  {
   "cell_type": "code",
   "execution_count": null,
   "id": "21ed233b",
   "metadata": {},
   "outputs": [],
   "source": []
  },
  {
   "cell_type": "code",
   "execution_count": null,
   "id": "9b667489",
   "metadata": {},
   "outputs": [],
   "source": []
  }
 ],
 "metadata": {
  "kernelspec": {
   "display_name": "Python 3 (ipykernel)",
   "language": "python",
   "name": "python3"
  },
  "language_info": {
   "codemirror_mode": {
    "name": "ipython",
    "version": 3
   },
   "file_extension": ".py",
   "mimetype": "text/x-python",
   "name": "python",
   "nbconvert_exporter": "python",
   "pygments_lexer": "ipython3",
   "version": "3.11.7"
  }
 },
 "nbformat": 4,
 "nbformat_minor": 5
}
